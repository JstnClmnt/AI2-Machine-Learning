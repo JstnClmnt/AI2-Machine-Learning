{
 "cells": [
  {
   "cell_type": "markdown",
   "metadata": {},
   "source": [
    "# Import Libraries"
   ]
  },
  {
   "cell_type": "code",
   "execution_count": 50,
   "metadata": {},
   "outputs": [],
   "source": [
    "import numpy as np\n",
    "import sklearn\n",
    "from sklearn import svm\n",
    "from sklearn.neighbors import KNeighborsClassifier\n",
    "from sklearn import tree\n",
    "import pandas as pd\n",
    "import matplotlib.pyplot as plt\n",
    "from pandas.plotting import scatter_matrix\n",
    "from sklearn.decomposition import PCA as sklearnPCA\n",
    "from sklearn.decomposition import FastICA\n",
    "from sklearn.externals.six import StringIO  \n",
    "from sklearn.svm import SVC\n",
    "from IPython.display import Image\n",
    "from sklearn.model_selection import train_test_split\n",
    "from sklearn import svm\n",
    "import pydotplus\n",
    "from sklearn.preprocessing import MinMaxScaler\n",
    "from sklearn.tree import export_graphviz\n",
    "import warnings\n",
    "warnings.filterwarnings('ignore')"
   ]
  },
  {
   "cell_type": "markdown",
   "metadata": {},
   "source": [
    "# Data Reading and Cleaning"
   ]
  },
  {
   "cell_type": "code",
   "execution_count": 2,
   "metadata": {},
   "outputs": [
    {
     "name": "stderr",
     "output_type": "stream",
     "text": [
      "b'Skipping line 3742: expected 68 fields, saw 69\\nSkipping line 3743: expected 68 fields, saw 69\\n'\n"
     ]
    },
    {
     "data": {
      "text/html": [
       "<div>\n",
       "<style scoped>\n",
       "    .dataframe tbody tr th:only-of-type {\n",
       "        vertical-align: middle;\n",
       "    }\n",
       "\n",
       "    .dataframe tbody tr th {\n",
       "        vertical-align: top;\n",
       "    }\n",
       "\n",
       "    .dataframe thead th {\n",
       "        text-align: right;\n",
       "    }\n",
       "</style>\n",
       "<table border=\"1\" class=\"dataframe\">\n",
       "  <thead>\n",
       "    <tr style=\"text-align: right;\">\n",
       "      <th></th>\n",
       "      <th>P. Name</th>\n",
       "      <th>P. Mass (EU)</th>\n",
       "      <th>P. Radius (EU)</th>\n",
       "      <th>P. Density (EU)</th>\n",
       "      <th>P. Gravity (EU)</th>\n",
       "      <th>P. Esc Vel (EU)</th>\n",
       "      <th>P. SFlux Mean (EU)</th>\n",
       "      <th>P. Teq Mean (K)</th>\n",
       "      <th>P. Ts Mean (K)</th>\n",
       "      <th>P. Surf Press (EU)</th>\n",
       "      <th>...</th>\n",
       "      <th>P. Mean Distance (AU)</th>\n",
       "      <th>P. Eccentricity</th>\n",
       "      <th>S. Mass (SU)</th>\n",
       "      <th>S. Radius (SU)</th>\n",
       "      <th>S. Teff (K)</th>\n",
       "      <th>S. Luminosity (SU)</th>\n",
       "      <th>S. [Fe/H]</th>\n",
       "      <th>S. Hab Zone Min (AU)</th>\n",
       "      <th>S. Hab Zone Max (AU)</th>\n",
       "      <th>P. Habitable Class</th>\n",
       "    </tr>\n",
       "  </thead>\n",
       "  <tbody>\n",
       "    <tr>\n",
       "      <th>42</th>\n",
       "      <td>55 Cnc e</td>\n",
       "      <td>8.10</td>\n",
       "      <td>1.99</td>\n",
       "      <td>1.03</td>\n",
       "      <td>2.05</td>\n",
       "      <td>2.02</td>\n",
       "      <td>2440.741</td>\n",
       "      <td>1790.4</td>\n",
       "      <td>1833.5</td>\n",
       "      <td>8.3</td>\n",
       "      <td>...</td>\n",
       "      <td>0.02</td>\n",
       "      <td>0.03</td>\n",
       "      <td>0.91</td>\n",
       "      <td>0.94</td>\n",
       "      <td>5196.0</td>\n",
       "      <td>0.581554</td>\n",
       "      <td>0.31</td>\n",
       "      <td>0.591</td>\n",
       "      <td>1.419</td>\n",
       "      <td>non-habitable</td>\n",
       "    </tr>\n",
       "    <tr>\n",
       "      <th>44</th>\n",
       "      <td>61 Vir b</td>\n",
       "      <td>5.09</td>\n",
       "      <td>1.66</td>\n",
       "      <td>1.10</td>\n",
       "      <td>1.84</td>\n",
       "      <td>1.75</td>\n",
       "      <td>296.5414</td>\n",
       "      <td>1054.4</td>\n",
       "      <td>1095.7</td>\n",
       "      <td>5.6</td>\n",
       "      <td>...</td>\n",
       "      <td>0.05</td>\n",
       "      <td>0.12</td>\n",
       "      <td>0.95</td>\n",
       "      <td>0.94</td>\n",
       "      <td>5531.0</td>\n",
       "      <td>0.741925</td>\n",
       "      <td>-0.01</td>\n",
       "      <td>0.656</td>\n",
       "      <td>1.556</td>\n",
       "      <td>non-habitable</td>\n",
       "    </tr>\n",
       "    <tr>\n",
       "      <th>61</th>\n",
       "      <td>BD+20 594 b</td>\n",
       "      <td>16.31</td>\n",
       "      <td>2.23</td>\n",
       "      <td>1.47</td>\n",
       "      <td>3.28</td>\n",
       "      <td>2.71</td>\n",
       "      <td>14.70450</td>\n",
       "      <td>498.9</td>\n",
       "      <td>546.5</td>\n",
       "      <td>24.0</td>\n",
       "      <td>...</td>\n",
       "      <td>0.24</td>\n",
       "      <td>0.00</td>\n",
       "      <td>0.96</td>\n",
       "      <td>0.93</td>\n",
       "      <td>5766.0</td>\n",
       "      <td>0.854052</td>\n",
       "      <td>-0.15</td>\n",
       "      <td>0.694</td>\n",
       "      <td>1.636</td>\n",
       "      <td>non-habitable</td>\n",
       "    </tr>\n",
       "    <tr>\n",
       "      <th>69</th>\n",
       "      <td>BD-06 1339 b</td>\n",
       "      <td>8.58</td>\n",
       "      <td>1.91</td>\n",
       "      <td>1.23</td>\n",
       "      <td>2.35</td>\n",
       "      <td>2.12</td>\n",
       "      <td>456.2180</td>\n",
       "      <td>1177.4</td>\n",
       "      <td>1221.5</td>\n",
       "      <td>10.6</td>\n",
       "      <td>...</td>\n",
       "      <td>0.04</td>\n",
       "      <td>0.00</td>\n",
       "      <td>0.70</td>\n",
       "      <td>1.64</td>\n",
       "      <td>4324.0</td>\n",
       "      <td>0.835718</td>\n",
       "      <td>-0.14</td>\n",
       "      <td>0.735</td>\n",
       "      <td>1.832</td>\n",
       "      <td>non-habitable</td>\n",
       "    </tr>\n",
       "    <tr>\n",
       "      <th>92</th>\n",
       "      <td>CoRoT-7 b</td>\n",
       "      <td>4.74</td>\n",
       "      <td>1.52</td>\n",
       "      <td>1.34</td>\n",
       "      <td>2.04</td>\n",
       "      <td>1.76</td>\n",
       "      <td>1842.386</td>\n",
       "      <td>1664.6</td>\n",
       "      <td>1706.5</td>\n",
       "      <td>6.4</td>\n",
       "      <td>...</td>\n",
       "      <td>0.02</td>\n",
       "      <td>0.12</td>\n",
       "      <td>0.93</td>\n",
       "      <td>0.87</td>\n",
       "      <td>5313.0</td>\n",
       "      <td>0.541113</td>\n",
       "      <td>0.03</td>\n",
       "      <td>0.567</td>\n",
       "      <td>1.355</td>\n",
       "      <td>non-habitable</td>\n",
       "    </tr>\n",
       "  </tbody>\n",
       "</table>\n",
       "<p>5 rows × 22 columns</p>\n",
       "</div>"
      ],
      "text/plain": [
       "         P. Name  P. Mass (EU)  P. Radius (EU)  P. Density (EU)  \\\n",
       "42      55 Cnc e          8.10            1.99             1.03   \n",
       "44      61 Vir b          5.09            1.66             1.10   \n",
       "61   BD+20 594 b         16.31            2.23             1.47   \n",
       "69  BD-06 1339 b          8.58            1.91             1.23   \n",
       "92     CoRoT-7 b          4.74            1.52             1.34   \n",
       "\n",
       "    P. Gravity (EU)  P. Esc Vel (EU) P. SFlux Mean (EU)  P. Teq Mean (K)  \\\n",
       "42             2.05             2.02           2440.741           1790.4   \n",
       "44             1.84             1.75           296.5414           1054.4   \n",
       "61             3.28             2.71           14.70450            498.9   \n",
       "69             2.35             2.12           456.2180           1177.4   \n",
       "92             2.04             1.76           1842.386           1664.6   \n",
       "\n",
       "    P. Ts Mean (K)  P. Surf Press (EU)         ...          \\\n",
       "42          1833.5                 8.3         ...           \n",
       "44          1095.7                 5.6         ...           \n",
       "61           546.5                24.0         ...           \n",
       "69          1221.5                10.6         ...           \n",
       "92          1706.5                 6.4         ...           \n",
       "\n",
       "    P. Mean Distance (AU)  P. Eccentricity  S. Mass (SU)  S. Radius (SU)  \\\n",
       "42                   0.02             0.03          0.91            0.94   \n",
       "44                   0.05             0.12          0.95            0.94   \n",
       "61                   0.24             0.00          0.96            0.93   \n",
       "69                   0.04             0.00          0.70            1.64   \n",
       "92                   0.02             0.12          0.93            0.87   \n",
       "\n",
       "    S. Teff (K)  S. Luminosity (SU)  S. [Fe/H]  S. Hab Zone Min (AU)  \\\n",
       "42       5196.0            0.581554       0.31                 0.591   \n",
       "44       5531.0            0.741925      -0.01                 0.656   \n",
       "61       5766.0            0.854052      -0.15                 0.694   \n",
       "69       4324.0            0.835718      -0.14                 0.735   \n",
       "92       5313.0            0.541113       0.03                 0.567   \n",
       "\n",
       "    S. Hab Zone Max (AU)  P. Habitable Class  \n",
       "42                 1.419       non-habitable  \n",
       "44                 1.556       non-habitable  \n",
       "61                 1.636       non-habitable  \n",
       "69                 1.832       non-habitable  \n",
       "92                 1.355       non-habitable  \n",
       "\n",
       "[5 rows x 22 columns]"
      ]
     },
     "execution_count": 2,
     "metadata": {},
     "output_type": "execute_result"
    }
   ],
   "source": [
    "df=pd.read_csv(\"phl_hec_all_confirmed.csv\", error_bad_lines=False)\n",
    "df=df[[\"P. Name\",\"P. Mass (EU)\",\"P. Radius (EU)\",\"P. Density (EU)\",\"P. Gravity (EU)\",\"P. Esc Vel (EU)\",\"P. SFlux Mean (EU)\",\"P. Teq Mean (K)\",\"P. Ts Mean (K)\",\"P. Surf Press (EU)\",\"P. Period (days)\",\"P. Sem Major Axis (AU)\",\"P. Mean Distance (AU)\",\"P. Eccentricity\",\"S. Mass (SU)\",\"S. Radius (SU)\",\"S. Teff (K)\",\"S. Luminosity (SU)\",\"S. [Fe/H]\",\"S. Hab Zone Min (AU)\",\"S. Hab Zone Max (AU)\",\"P. Habitable Class\"]]\n",
    "df=df.dropna()\n",
    "df.head()"
   ]
  },
  {
   "cell_type": "code",
   "execution_count": 3,
   "metadata": {},
   "outputs": [
    {
     "data": {
      "text/plain": [
       "Index(['P. Name', 'P. Mass (EU)', 'P. Radius (EU)', 'P. Density (EU)',\n",
       "       'P. Gravity (EU)', 'P. Esc Vel (EU)', 'P. SFlux Mean (EU)',\n",
       "       'P. Teq Mean (K)', 'P. Ts Mean (K)', 'P. Surf Press (EU)',\n",
       "       'P. Period (days)', 'P. Sem Major Axis (AU)', 'P. Mean Distance (AU)',\n",
       "       'P. Eccentricity', 'S. Mass (SU)', 'S. Radius (SU)', 'S. Teff (K)',\n",
       "       'S. Luminosity (SU)', 'S. [Fe/H]', 'S. Hab Zone Min (AU)',\n",
       "       'S. Hab Zone Max (AU)', 'P. Habitable Class'],\n",
       "      dtype='object')"
      ]
     },
     "execution_count": 3,
     "metadata": {},
     "output_type": "execute_result"
    }
   ],
   "source": [
    "df.columns"
   ]
  },
  {
   "cell_type": "markdown",
   "metadata": {},
   "source": [
    "# Visualize Data by Reducing Dimensionality"
   ]
  },
  {
   "cell_type": "code",
   "execution_count": 4,
   "metadata": {},
   "outputs": [
    {
     "data": {
      "image/png": "[encoded data removed]",
      "text/plain": [
       "<Figure size 720x720 with 1 Axes>"
      ]
     },
     "metadata": {
      "needs_background": "light"
     },
     "output_type": "display_data"
    }
   ],
   "source": [
    "labels=df[\"P. Habitable Class\"].unique().tolist()\n",
    "colors=[\"black\",\"red\",\"blue\",\"yellow\",\"green\"]\n",
    "plt.figure(figsize=(10,10))\n",
    "for x in range(len(labels)):\n",
    "    data=df[df[\"P. Habitable Class\"]==labels[x]]\n",
    "    data=data[[\"P. Mass (EU)\",\"P. Radius (EU)\",\"P. Density (EU)\",\"P. Gravity (EU)\",\"P. Esc Vel (EU)\",\"P. SFlux Mean (EU)\",\"P. Teq Mean (K)\",\"P. Ts Mean (K)\",\"P. Surf Press (EU)\",\"P. Period (days)\",\"P. Sem Major Axis (AU)\",\"P. Mean Distance (AU)\",\"P. Eccentricity\",\"S. Mass (SU)\",\"S. Radius (SU)\",\"S. Teff (K)\",\"S. Luminosity (SU)\",\"S. [Fe/H]\",\"S. Hab Zone Min (AU)\",\"S. Hab Zone Max (AU)\"]]\n",
    "    pca = sklearnPCA(n_components=2,random_state=0)\n",
    "    reduced = pd.DataFrame(pca.fit_transform(data))\n",
    "    reduced= (reduced - reduced.min())/(reduced.max() - reduced.min())\n",
    "    plt.scatter(reduced[0], reduced[1], label=labels[x], c=colors[x])\n",
    "    \n",
    "plt.legend()\n",
    "plt.show()"
   ]
  },
  {
   "cell_type": "code",
   "execution_count": 5,
   "metadata": {},
   "outputs": [
    {
     "data": {
      "image/png": "[encoded data removed]",
      "text/plain": [
       "<Figure size 720x720 with 1 Axes>"
      ]
     },
     "metadata": {
      "needs_background": "light"
     },
     "output_type": "display_data"
    }
   ],
   "source": [
    "labels=df[\"P. Habitable Class\"].unique().tolist()\n",
    "colors=[\"black\",\"red\",\"blue\",\"yellow\",\"green\"]\n",
    "plt.figure(figsize=(10,10))\n",
    "for x in range(len(labels)):\n",
    "    data=df[df[\"P. Habitable Class\"]==labels[x]]\n",
    "    data=data[[\"P. Mass (EU)\",\"P. Radius (EU)\",\"P. Density (EU)\",\"P. Gravity (EU)\",\"P. Esc Vel (EU)\",\"P. SFlux Mean (EU)\",\"P. Teq Mean (K)\",\"P. Ts Mean (K)\",\"P. Surf Press (EU)\",\"P. Period (days)\",\"P. Sem Major Axis (AU)\",\"P. Mean Distance (AU)\",\"P. Eccentricity\",\"S. Mass (SU)\",\"S. Radius (SU)\",\"S. Teff (K)\",\"S. Luminosity (SU)\",\"S. [Fe/H]\",\"S. Hab Zone Min (AU)\",\"S. Hab Zone Max (AU)\"]]\n",
    "    ica = FastICA(n_components=2,max_iter=1000,random_state=0)\n",
    "    reduced = pd.DataFrame(ica.fit_transform(data))\n",
    "    reduced= (reduced - reduced.min())/(reduced.max() - reduced.min())\n",
    "    plt.scatter(reduced[0], reduced[1], label=labels[x], c=colors[x])\n",
    "    \n",
    "plt.legend()\n",
    "plt.show()"
   ]
  },
  {
   "cell_type": "markdown",
   "metadata": {},
   "source": [
    "# K-Nearest Neighbor"
   ]
  },
  {
   "cell_type": "markdown",
   "metadata": {},
   "source": [
    "## Find Optimal Number of Neighbors"
   ]
  },
  {
   "cell_type": "markdown",
   "metadata": {},
   "source": [
    "### With Normalization"
   ]
  },
  {
   "cell_type": "code",
   "execution_count": 6,
   "metadata": {},
   "outputs": [
    {
     "name": "stdout",
     "output_type": "stream",
     "text": [
      "20\n"
     ]
    },
    {
     "data": {
      "image/png": "[encoded data removed]",
      "text/plain": [
       "<Figure size 720x360 with 1 Axes>"
      ]
     },
     "metadata": {
      "needs_background": "light"
     },
     "output_type": "display_data"
    }
   ],
   "source": [
    "features=[\"P. Mass (EU)\",\"P. Radius (EU)\",\"P. Density (EU)\",\"P. Gravity (EU)\",\"P. Esc Vel (EU)\",\"P. SFlux Mean (EU)\",\"P. Teq Mean (K)\",\"P. Ts Mean (K)\",\"P. Surf Press (EU)\",\"P. Period (days)\",\"P. Sem Major Axis (AU)\",\"P. Mean Distance (AU)\",\"P. Eccentricity\",\"S. Mass (SU)\",\"S. Radius (SU)\",\"S. Teff (K)\",\"S. Luminosity (SU)\",\"S. [Fe/H]\",\"S. Hab Zone Min (AU)\",\"S. Hab Zone Max (AU)\"]\n",
    "print(len(features))\n",
    "label=[\"P. Habitable Class\"]\n",
    "x=df[features]\n",
    "y=df[label]\n",
    "train_data, test_data, train_lbl, test_lbl = train_test_split(x,y, test_size=.20, random_state=0)\n",
    "plotx=[]\n",
    "ploty=[]\n",
    "for x in range(1,51,2):\n",
    "    neigh = KNeighborsClassifier(n_neighbors=x)\n",
    "    neigh.fit(train_data, train_lbl) \n",
    "    acc=neigh.score(test_data,test_lbl)\n",
    "    plotx.append(x)\n",
    "    ploty.append(acc)\n",
    "    #print(\"Accuracy at \"+str(x)+\" neighbors:\"+str(acc))\n",
    "plt.figure(figsize=(10,5))\n",
    "plt.ylim(0.9,1)\n",
    "plt.plot(plotx,ploty)\n",
    "plt.ylabel('Accuracy');\n",
    "plt.xlabel('Number of Neighbors');\n",
    "plt.show()"
   ]
  },
  {
   "cell_type": "markdown",
   "metadata": {},
   "source": [
    "### Without Normalization"
   ]
  },
  {
   "cell_type": "code",
   "execution_count": 7,
   "metadata": {},
   "outputs": [
    {
     "name": "stdout",
     "output_type": "stream",
     "text": [
      "20\n"
     ]
    },
    {
     "data": {
      "image/png": "[encoded data removed]",
      "text/plain": [
       "<Figure size 720x360 with 1 Axes>"
      ]
     },
     "metadata": {
      "needs_background": "light"
     },
     "output_type": "display_data"
    }
   ],
   "source": [
    "features=[\"P. Mass (EU)\",\"P. Radius (EU)\",\"P. Density (EU)\",\"P. Gravity (EU)\",\"P. Esc Vel (EU)\",\"P. SFlux Mean (EU)\",\"P. Teq Mean (K)\",\"P. Ts Mean (K)\",\"P. Surf Press (EU)\",\"P. Period (days)\",\"P. Sem Major Axis (AU)\",\"P. Mean Distance (AU)\",\"P. Eccentricity\",\"S. Mass (SU)\",\"S. Radius (SU)\",\"S. Teff (K)\",\"S. Luminosity (SU)\",\"S. [Fe/H]\",\"S. Hab Zone Min (AU)\",\"S. Hab Zone Max (AU)\"]\n",
    "print(len(features))\n",
    "label=[\"P. Habitable Class\"]\n",
    "x=df[features]\n",
    "y=df[label]\n",
    "scaler = MinMaxScaler()\n",
    "x=scaler.fit_transform(x)\n",
    "train_data, test_data, train_lbl, test_lbl = train_test_split(x,y, test_size=.20, random_state=0)\n",
    "plotx=[]\n",
    "ploty=[]\n",
    "for x in range(1,51,2):\n",
    "    neigh = KNeighborsClassifier(n_neighbors=x)\n",
    "    neigh.fit(train_data, train_lbl) \n",
    "    acc=neigh.score(test_data,test_lbl)\n",
    "    plotx.append(x)\n",
    "    ploty.append(acc)\n",
    "    #print(\"Accuracy at \"+str(x)+\" neighbors:\"+str(acc))\n",
    "plt.figure(figsize=(10,5))\n",
    "plt.ylim(0.9,1)\n",
    "plt.plot(plotx,ploty)\n",
    "plt.ylabel('Accuracy');\n",
    "plt.xlabel('Number of Neighbors');\n",
    "plt.show()"
   ]
  },
  {
   "cell_type": "markdown",
   "metadata": {},
   "source": [
    "## Preventing Curse of Dimensionality"
   ]
  },
  {
   "cell_type": "code",
   "execution_count": 8,
   "metadata": {},
   "outputs": [
    {
     "data": {
      "image/png": "[encoded data removed]",
      "text/plain": [
       "<Figure size 1080x720 with 2 Axes>"
      ]
     },
     "metadata": {
      "needs_background": "light"
     },
     "output_type": "display_data"
    }
   ],
   "source": [
    "plotx=[]\n",
    "ploty=[]\n",
    "dimensionx=[]\n",
    "dimensiony=[]\n",
    "for x in range(1,len(features)+1):\n",
    "    neigh = KNeighborsClassifier(n_neighbors=10)\n",
    "    data = df[features]\n",
    "    scaler = MinMaxScaler()\n",
    "    data=scaler.fit_transform(data)\n",
    "    pca = sklearnPCA(n_components=x,random_state=0)\n",
    "    data = pd.DataFrame(pca.fit_transform(data))\n",
    "    loss=(1-sum(pca.explained_variance_ratio_))*100\n",
    "    #print(\"Information Loss at \"+str(x)+\" dimensions:\"+str(loss))\n",
    "    y=df[label]\n",
    "    train_data, test_data, train_lbl, test_lbl = train_test_split(data,y, test_size=.20, random_state=0)\n",
    "    neigh.fit(train_data, train_lbl) \n",
    "    acc=neigh.score(test_data,test_lbl)\n",
    "    plotx.append(x)\n",
    "    ploty.append(acc)\n",
    "    dimensionx.append(x)\n",
    "    dimensiony.append(loss)\n",
    "    #print(\"Accuracy at \"+str(x)+\" neighbors:\"+str(acc))\n",
    "plt.figure(figsize=(15,10))\n",
    "plt.subplot(1,2,1)\n",
    "plt.xticks(range(0,20))\n",
    "plt.ylim(.9,1)\n",
    "plt.plot(plotx,ploty)\n",
    "plt.ylabel('Accuracy');\n",
    "plt.xlabel('Number of Dimensions');\n",
    "plt.subplot(1,2,2)\n",
    "plt.plot(dimensionx,dimensiony)\n",
    "plt.ylabel('Information Loss');\n",
    "plt.xlabel('Number of Dimensions');\n",
    "plt.show()"
   ]
  },
  {
   "cell_type": "markdown",
   "metadata": {},
   "source": [
    "# Support Vector Machines"
   ]
  },
  {
   "cell_type": "code",
   "execution_count": 44,
   "metadata": {},
   "outputs": [],
   "source": [
    "kernels=[]\n",
    "accuracy=[]"
   ]
  },
  {
   "cell_type": "code",
   "execution_count": 46,
   "metadata": {},
   "outputs": [
    {
     "name": "stdout",
     "output_type": "stream",
     "text": [
      "0.9545454545454546\n"
     ]
    }
   ],
   "source": [
    "x=df[features]\n",
    "y=df[label]\n",
    "scaler = MinMaxScaler()\n",
    "x=scaler.fit_transform(x)\n",
    "train_data, test_data, train_lbl, test_lbl = train_test_split(x,y, test_size=.20, random_state=0)\n",
    "clf = SVC(random_state=0,kernel=\"rbf\",gamma=.7)\n",
    "clf.fit(train_data, train_lbl)\n",
    "acc=clf.score(test_data,test_lbl)\n",
    "accuracy.append(acc)\n",
    "kernels.append(\"RBF Kernel\")\n",
    "print(acc)"
   ]
  },
  {
   "cell_type": "code",
   "execution_count": 42,
   "metadata": {},
   "outputs": [
    {
     "name": "stdout",
     "output_type": "stream",
     "text": [
      "0.9545454545454546\n"
     ]
    }
   ],
   "source": [
    "x=df[features]\n",
    "y=df[label]\n",
    "scaler = MinMaxScaler()\n",
    "x=scaler.fit_transform(x)\n",
    "train_data, test_data, train_lbl, test_lbl = train_test_split(x,y, test_size=.20, random_state=0)\n",
    "clf = SVC(random_state=0,kernel=\"poly\")\n",
    "clf.fit(train_data, train_lbl)\n",
    "acc=clf.score(test_data,test_lbl)\n",
    "kernels.append(\"Poly Kernel with Degree 3\")\n",
    "accuracy.append(acc)\n",
    "print(acc)"
   ]
  },
  {
   "cell_type": "code",
   "execution_count": 43,
   "metadata": {},
   "outputs": [
    {
     "name": "stdout",
     "output_type": "stream",
     "text": [
      "0.9545454545454546\n"
     ]
    }
   ],
   "source": [
    "x=df[features]\n",
    "y=df[label]\n",
    "scaler = MinMaxScaler()\n",
    "x=scaler.fit_transform(x)\n",
    "train_data, test_data, train_lbl, test_lbl = train_test_split(x,y, test_size=.20, random_state=0)\n",
    "clf = SVC(random_state=0,kernel=\"linear\")\n",
    "clf.fit(train_data, train_lbl)\n",
    "acc=clf.score(test_data,test_lbl)\n",
    "kernels.append(\"Linear\")\n",
    "accuracy.append(acc)\n",
    "print(acc)"
   ]
  },
  {
   "cell_type": "code",
   "execution_count": 31,
   "metadata": {},
   "outputs": [
    {
     "data": {
      "image/png": "[encoded data removed]",
      "text/plain": [
       "<Figure size 432x288 with 1 Axes>"
      ]
     },
     "metadata": {
      "needs_background": "light"
     },
     "output_type": "display_data"
    },
    {
     "name": "stdout",
     "output_type": "stream",
     "text": [
      "[0.9545454545454546, 0.9545454545454546, 0.9545454545454546]\n"
     ]
    }
   ],
   "source": [
    "plt.figure()\n",
    "plt.bar(kernels,accuracy)\n",
    "plt.ylim(.9,1)\n",
    "plt.show()\n",
    "print(accuracy)"
   ]
  },
  {
   "cell_type": "markdown",
   "metadata": {},
   "source": [
    "# Decision Trees"
   ]
  },
  {
   "cell_type": "code",
   "execution_count": 51,
   "metadata": {},
   "outputs": [
    {
     "data": {
      "text/plain": [
       "1.0"
      ]
     },
     "execution_count": 51,
     "metadata": {},
     "output_type": "execute_result"
    }
   ],
   "source": [
    "x=df[features]\n",
    "y=df[label]\n",
    "scaler = MinMaxScaler()\n",
    "x=scaler.fit_transform(x)\n",
    "train_data, test_data, train_lbl, test_lbl = train_test_split(x,y, test_size=.20, random_state=0)\n",
    "clf = tree.DecisionTreeClassifier()\n",
    "clf = clf.fit(train_data, train_lbl)\n",
    "clf.score(test_data,test_lbl)"
   ]
  },
  {
   "cell_type": "code",
   "execution_count": 52,
   "metadata": {},
   "outputs": [
    {
     "name": "stdout",
     "output_type": "stream",
     "text": [
      "tree.dot\n",
      "^\n",
      "Expected {'graph' | 'digraph'} (at char 0), (line:1, col:1)\n"
     ]
    },
    {
     "ename": "AttributeError",
     "evalue": "'NoneType' object has no attribute 'create_png'",
     "output_type": "error",
     "traceback": [
      "\u001b[1;31m---------------------------------------------------------------------------\u001b[0m",
      "\u001b[1;31mAttributeError\u001b[0m                            Traceback (most recent call last)",
      "\u001b[1;32m<ipython-input-52-c72936de0f11>\u001b[0m in \u001b[0;36m<module>\u001b[1;34m\u001b[0m\n\u001b[0;32m      1\u001b[0m \u001b[0mtree\u001b[0m\u001b[1;33m.\u001b[0m\u001b[0mexport_graphviz\u001b[0m\u001b[1;33m(\u001b[0m\u001b[0mclf\u001b[0m\u001b[1;33m,\u001b[0m\u001b[0mout_file\u001b[0m\u001b[1;33m=\u001b[0m\u001b[1;34m'tree.dot'\u001b[0m\u001b[1;33m)\u001b[0m\u001b[1;33m\u001b[0m\u001b[0m\n\u001b[0;32m      2\u001b[0m \u001b[0mgraph\u001b[0m \u001b[1;33m=\u001b[0m \u001b[0mpydotplus\u001b[0m\u001b[1;33m.\u001b[0m\u001b[0mgraph_from_dot_data\u001b[0m\u001b[1;33m(\u001b[0m\u001b[1;34m\"tree.dot\"\u001b[0m\u001b[1;33m)\u001b[0m\u001b[1;33m\u001b[0m\u001b[0m\n\u001b[1;32m----> 3\u001b[1;33m \u001b[0mImage\u001b[0m\u001b[1;33m(\u001b[0m\u001b[0mgraph\u001b[0m\u001b[1;33m.\u001b[0m\u001b[0mcreate_png\u001b[0m\u001b[1;33m(\u001b[0m\u001b[1;33m)\u001b[0m\u001b[1;33m)\u001b[0m\u001b[1;33m\u001b[0m\u001b[0m\n\u001b[0m",
      "\u001b[1;31mAttributeError\u001b[0m: 'NoneType' object has no attribute 'create_png'"
     ]
    }
   ],
   "source": [
    "tree.export_graphviz(clf,out_file='tree.dot') \n",
    "graph = pydotplus.graph_from_dot_data(\"tree.dot\")  \n",
    "Image(graph.create_png())"
   ]
  },
  {
   "cell_type": "code",
   "execution_count": null,
   "metadata": {},
   "outputs": [],
   "source": []
  }
 ],
 "metadata": {
  "kernelspec": {
   "display_name": "Python 3",
   "language": "python",
   "name": "python3"
  },
  "language_info": {
   "codemirror_mode": {
    "name": "ipython",
    "version": 3
   },
   "file_extension": ".py",
   "mimetype": "text/x-python",
   "name": "python",
   "nbconvert_exporter": "python",
   "pygments_lexer": "ipython3",
   "version": "3.6.2"
  }
 },
 "nbformat": 4,
 "nbformat_minor": 2
}
